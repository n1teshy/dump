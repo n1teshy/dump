{
 "cells": [
  {
   "cell_type": "code",
   "execution_count": 182,
   "metadata": {},
   "outputs": [],
   "source": [
    "import torch\n",
    "import torch.nn as nn\n",
    "\n",
    "\n",
    "B, T, C = 4, 5, 6\n",
    "\n",
    "\n",
    "class Model:\n",
    "    def __init__(self, num_layers, shape, activation=\"relu\", use_ln=False, use_res=False):\n",
    "        self.layers, self.lns = [], []\n",
    "        self.activation = self.get_activation(activation)\n",
    "        self.use_ln, self.use_res = use_ln, use_res\n",
    "        for _ in range(num_layers):\n",
    "            self.layers.append(nn.Linear(shape[-1], shape[-1]))\n",
    "            if use_ln:\n",
    "                self.lns.append(nn.LayerNorm(shape[-1]))\n",
    "\n",
    "    def get_activation(self, name):\n",
    "        if name == \"relu\":\n",
    "            fn = nn.ReLU()\n",
    "        elif name == \"sigmoid\":\n",
    "            fn = nn.Sigmoid()\n",
    "        elif name == \"tanh\":\n",
    "            fn = nn.Tanh()\n",
    "        else:\n",
    "            raise ValueError(f\"unknown activation '{name}'\")\n",
    "        return fn\n",
    "    \n",
    "    def __call__(self, x):\n",
    "        for idx in range(len(self.layers)):\n",
    "            temp = self.layers[idx](x)\n",
    "            if self.use_ln:\n",
    "                temp = self.lns[idx](temp)\n",
    "            temp = self.activation(temp)\n",
    "            if self.use_res:\n",
    "                temp = temp + x\n",
    "            x = temp\n",
    "        return x\n",
    "    \n",
    "    def print_grad(self):\n",
    "        for idx in range(len(self.layers)):\n",
    "            grad = self.layers[idx].weight.grad\n",
    "            print(\"layer %d -> min: %.12f, mean: %.12f, max: %.12f, abs_mean: %.12f\" % (idx + 1, grad.min(), grad.mean(), grad.max(), grad.abs().mean()))"
   ]
  },
  {
   "cell_type": "code",
   "execution_count": 183,
   "metadata": {},
   "outputs": [
    {
     "name": "stdout",
     "output_type": "stream",
     "text": [
      "layer 1 -> min: -0.000008724685, mean: 0.000000016982, max: 0.000007885125, abs_mean: 0.000002013164\n",
      "layer 2 -> min: -0.000021151631, mean: -0.000001646425, max: 0.000019664803, abs_mean: 0.000004690145\n",
      "layer 3 -> min: -0.000068766269, mean: -0.000008068234, max: 0.000003547475, abs_mean: 0.000008744186\n",
      "layer 4 -> min: -0.000058036661, mean: -0.000001599074, max: 0.000032604883, abs_mean: 0.000005611385\n",
      "layer 5 -> min: 0.000000000000, mean: 0.000018623370, max: 0.000206593948, abs_mean: 0.000018623370\n",
      "layer 6 -> min: -0.000622075284, mean: -0.000067921806, max: 0.000000000000, abs_mean: 0.000067921806\n",
      "layer 7 -> min: -0.002337198704, mean: -0.000007956284, max: 0.001580619952, abs_mean: 0.000262820016\n",
      "layer 8 -> min: -0.002778632101, mean: 0.002014670055, max: 0.016389533877, abs_mean: 0.002334865741\n",
      "layer 9 -> min: 0.000000000000, mean: 0.002392121358, max: 0.026031041518, abs_mean: 0.002392121358\n",
      "layer 10 -> min: 0.000000000000, mean: 0.006217778195, max: 0.059228196740, abs_mean: 0.006217778195\n"
     ]
    }
   ],
   "source": [
    "x = torch.randn((B, T, C), requires_grad=True)\n",
    "model = Model(10, (B, T, C), activation=\"relu\")\n",
    "y = model(x)\n",
    "y = y.mean()\n",
    "y.backward()\n",
    "model.print_grad()"
   ]
  }
 ],
 "metadata": {
  "kernelspec": {
   "display_name": "Python 3",
   "language": "python",
   "name": "python3"
  },
  "language_info": {
   "codemirror_mode": {
    "name": "ipython",
    "version": 3
   },
   "file_extension": ".py",
   "mimetype": "text/x-python",
   "name": "python",
   "nbconvert_exporter": "python",
   "pygments_lexer": "ipython3",
   "version": "3.11.4"
  }
 },
 "nbformat": 4,
 "nbformat_minor": 2
}
